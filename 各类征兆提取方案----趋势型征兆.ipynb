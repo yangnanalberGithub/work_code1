{
 "cells": [
  {
   "cell_type": "markdown",
   "metadata": {},
   "source": [
    "# 趋势型征兆识别  \n",
    "训练函数定义 trend_training:\n",
    "输入：\n",
    "\n",
    "    hist_data : pandas.list     \n",
    "    window_lengthe: time\n",
    "    trend_type: str\n",
    "    hts: \n",
    "输出:\n",
    "\n",
    "    dictionary:{window_length: time;\n",
    "            trend_type: str\n",
    "            hts : float\n",
    "            htc: float\n",
    "            \n",
    "            simulation: pandas.list\n",
    "            }\n",
    "识别函数定义 trend_identify:\n",
    "输入：  \n",
    "\n",
    "    data ： pandas.list\n",
    "    window_length: time\n",
    "    I : float\n",
    "    h2 : float\n",
    "输出：  \n",
    "    \n",
    "    trend_present: True, False"
   ]
  },
  {
   "cell_type": "markdown",
   "metadata": {},
   "source": [
    "# 训练函数定义"
   ]
  },
  {
   "cell_type": "code",
   "execution_count": 1,
   "metadata": {},
   "outputs": [
    {
     "name": "stderr",
     "output_type": "stream",
     "text": [
      "E:\\Anaconda\\lib\\site-packages\\statsmodels\\compat\\pandas.py:56: FutureWarning: The pandas.core.datetools module is deprecated and will be removed in a future version. Please use the pandas.tseries module instead.\n",
      "  from pandas.core import datetools\n"
     ]
    }
   ],
   "source": [
    "#所需函数包\n",
    "import pandas as pd\n",
    "import numpy as np\n",
    "import matplotlib.pyplot as plt\n",
    "import sklearn\n",
    "from scipy import stats\n",
    "import statsmodels.tsa.stattools as ts "
   ]
  },
  {
   "cell_type": "markdown",
   "metadata": {},
   "source": [
    "![image.bmp](picture/trend1.bmp)\n",
    "![image.bmp](picture/trend2.bmp)   \n",
    "|I| < hts 则认为平稳   \n",
    "|Id|< htc 则认为两片段连续   \n",
    "|Id|> htc & |Is|<hts  则认为突变后平稳   \n",
    "\n",
    "htc 经验给定   \n",
    "hts 历史数据统计获得"
   ]
  },
  {
   "cell_type": "code",
   "execution_count": 3,
   "metadata": {},
   "outputs": [
    {
     "ename": "SyntaxError",
     "evalue": "invalid character in identifier (<ipython-input-3-c4dc22f18706>, line 63)",
     "output_type": "error",
     "traceback": [
      "\u001b[1;36m  File \u001b[1;32m\"<ipython-input-3-c4dc22f18706>\"\u001b[1;36m, line \u001b[1;32m63\u001b[0m\n\u001b[1;33m    if abs(data[i]-list(trend_slices[-1].values())[1])<htc： #dict_value 取出值在python3中要强制转换为list才能继续取值。\u001b[0m\n\u001b[1;37m                                                          ^\u001b[0m\n\u001b[1;31mSyntaxError\u001b[0m\u001b[1;31m:\u001b[0m invalid character in identifier\n"
     ]
    }
   ],
   "source": [
    "def trend_training(hist_data, window_length,  hts):\n",
    "    #历史数据判断是否稳定\n",
    "    steady_value = ts.adfuller(hist_data.values)\n",
    "    if steady_value[0]<steady_value[4]['1%']:\n",
    "        \n",
    "        trend ='steady'\n",
    "        \n",
    "    else:\n",
    "        return '历史数据存在变化趋势'\n",
    "    \n",
    "    #采3sigma法估计趋势阈值h2,h3\n",
    "    sigma = hist_data.values.std()\n",
    "    htc = 3*sigma\n",
    "    \n",
    "    #仿真真趋势数据\n",
    "    sim_len = len(hist_data)\n",
    "    slope = h1/window_length #!!!\n",
    "    sim_data= pd.DataFrame(columns=['original'],data=hist_data.values, index=hist_data.index)\n",
    "    sim_data['simdata']= np.ones(len(hist_data))\n",
    "    sim_data['simdata'][0]=hist_data.mean()\n",
    "    \n",
    "    t1 = sim_data.index[0]\n",
    "    for i in range(1,sim_len):\n",
    "        \n",
    "        t2 =sim_data.index[i]\n",
    "        delta_t = (t2 - t1).seconds\n",
    "        sim_data.loc[t2]['simdata']=sim_data.loc[t1]['simdata']+slope*delta_t\n",
    "        t1=sim_data.index[i]\n",
    "    plt.plot(sim_data)\n",
    "    print(sim_data.head())\n",
    "    return {\"window\":window_length,'hts':hts,'htc':htc},sim_data\n",
    "\n",
    "    \n",
    "    \n",
    "    \n",
    "    \n",
    "    \n",
    "def trend_identify(data,hts,htc):\n",
    "#     steady_value = ts.adfuller(data.values)\n",
    "#     if steady_value[0]<steady_value[4]['1%']:\n",
    "#         trend ='steady'\n",
    "#         return trend\n",
    "# 定义片段矩阵，【起始位置，值，结束位置，值】\n",
    "    trend_slices=[]\n",
    "    trend_names ={}\n",
    "    trend_slices.append({data.index[0]:data[0],data.index[1]:data[1]})\n",
    "\n",
    "#当前片段起始和结束时刻\n",
    "    current_index_start = data.index[0]\n",
    "    current_index_end = data.index[1]\n",
    "    i=1\n",
    "\n",
    "#判断最前面两个点的趋势类型：\n",
    "    if abs(data[0]-data[1])<htc:\n",
    "        trend_names[trend_slices[0].keys()]='steady'\n",
    "\n",
    "\n",
    "    while current_index<data.index[-1]:\n",
    "        i+=1\n",
    "\n",
    "        #判断新点与前一片段是否连续\n",
    "\n",
    "        if abs(data[i]-list(trend_slices[-1].values())[1])<htc： #dict_value 取出值在python3中要强制转换为list才能继续取值。\n",
    "            #表示新点与当前片段连续,当前点记入当前片段，作为最后一个点\n",
    "            # 1 去除当前片段旧末尾值\n",
    "            trend_slices[-1].pop(list(trend_slices[-1].keys())[1])\n",
    "            # 2 将新点作为末尾值\n",
    "            trend_slices[-1][current_index]=data[i]\n",
    "            #计算当前片段的最后一个值与前一片段最后一个值的差，是否>hts\n",
    "            if len(trend_slices)==1:\n",
    "                I = list(trend_slices[0].values())[1]-list(trend_slices[0].values())[0]\n",
    "                if abs(I) <hts:\n",
    "                    trend_names.update({list(trend_slices[0].keys()):trend_names.pop(trend_names.keys())})\n",
    "                else:\n",
    "                    trend_names.pop(trend_names.keys())\n",
    "                    if I>0:\n",
    "                        trend_names.update({list(trend_slices[0].keys()):'teady_up'})\n",
    "                    else:\n",
    "                        trend_names.update({list(trend_slices[0].keys()):'teady_down'})\n",
    "            else :\n",
    "                I =list(trend_slices[-1].values())[1]-list(trend_slices[-2].values())[1]\n",
    "                #当两个片段的末尾值相差<hts,表示当前片段段没有明前趋势变化，并判断为平稳\n",
    "                if abs(I) < hts:\n",
    "                    trend_names.updata()\n",
    "\n",
    "\n",
    "\n",
    "        if abs(data[i]-list(trend_slices[-1].values())[1])>=htc：\n",
    "            #表示新点与前一片段不连续\n",
    "\n",
    "\n",
    "\n",
    "    \n",
    "    \n",
    "    "
   ]
  },
  {
   "cell_type": "code",
   "execution_count": 154,
   "metadata": {},
   "outputs": [
    {
     "data": {
      "text/plain": [
       "{1: 'steady', 'b': 2}"
      ]
     },
     "execution_count": 154,
     "metadata": {},
     "output_type": "execute_result"
    }
   ],
   "source": [
    "dict={'a':1, 'b':2}\n",
    " \n",
    "dict[\"c\"] = dict.pop(\"a\")\n",
    "dict.pop(list(dict.keys())[1])\n",
    "dict.update({1:'steady'})\n",
    "dict"
   ]
  },
  {
   "cell_type": "code",
   "execution_count": 149,
   "metadata": {},
   "outputs": [
    {
     "data": {
      "text/plain": [
       "Timestamp('2018-01-01 00:00:00', freq='5S')"
      ]
     },
     "execution_count": 149,
     "metadata": {},
     "output_type": "execute_result"
    }
   ],
   "source": [
    "a = []\n",
    "a.append({test_data.index[0]:test_data[0],test_data.index[1]:test_data[1]})\n",
    "list(a[-1].keys())[1]\n",
    "test_data.index[0]"
   ]
  },
  {
   "cell_type": "code",
   "execution_count": null,
   "metadata": {},
   "outputs": [],
   "source": [
    "trend_training(train_data,500,0.5)"
   ]
  },
  {
   "cell_type": "code",
   "execution_count": 45,
   "metadata": {},
   "outputs": [],
   "source": [
    "# train data building\n",
    "rng = pd.date_range('1/1/2018',periods=1000,freq='5S')\n",
    "rng\n",
    "a = np.random.randn(1000)\n",
    "a[0:200]=a[0:200]+np.ones(200)*2\n",
    "a[200:500]=a[200:500]+np.linspace(2.01,5,300)\n",
    "a[500:1001]=a[500:1001]+np.ones(500)*5\n",
    "test_data = pd.Series(a,index=rng)\n",
    "train_data = pd.Series(np.random.randn(1000),index=rng)"
   ]
  },
  {
   "cell_type": "code",
   "execution_count": 3,
   "metadata": {
    "scrolled": true
   },
   "outputs": [
    {
     "data": {
      "text/plain": [
       "[<matplotlib.lines.Line2D at 0x26b119e4e80>]"
      ]
     },
     "execution_count": 3,
     "metadata": {},
     "output_type": "execute_result"
    },
    {
     "data": {
      "image/png": "[encoded data removed]",
      "text/plain": [
       "<Figure size 432x288 with 1 Axes>"
      ]
     },
     "metadata": {},
     "output_type": "display_data"
    }
   ],
   "source": [
    "plt.plot(test_data)"
   ]
  },
  {
   "cell_type": "code",
   "execution_count": 83,
   "metadata": {},
   "outputs": [
    {
     "data": {
      "text/plain": [
       "2.06628958457818"
      ]
     },
     "execution_count": 83,
     "metadata": {},
     "output_type": "execute_result"
    }
   ],
   "source": [
    "test_data[0:4].mean()"
   ]
  },
  {
   "cell_type": "code",
   "execution_count": 30,
   "metadata": {
    "scrolled": false
   },
   "outputs": [
    {
     "ename": "ValueError",
     "evalue": "No axis named 2018-01-01 00:00:05 for object type <class 'pandas.core.frame.DataFrame'>",
     "output_type": "error",
     "traceback": [
      "\u001b[1;31m---------------------------------------------------------------------------\u001b[0m",
      "\u001b[1;31mValueError\u001b[0m                                Traceback (most recent call last)",
      "\u001b[1;32m<ipython-input-30-853394c8a3ad>\u001b[0m in \u001b[0;36m<module>\u001b[1;34m()\u001b[0m\n\u001b[0;32m      3\u001b[0m \u001b[1;33m\u001b[0m\u001b[0m\n\u001b[0;32m      4\u001b[0m \u001b[0msim_data\u001b[0m\u001b[1;33m[\u001b[0m\u001b[1;34m'simdata'\u001b[0m\u001b[1;33m]\u001b[0m\u001b[1;33m=\u001b[0m\u001b[0mnp\u001b[0m\u001b[1;33m.\u001b[0m\u001b[0mones\u001b[0m\u001b[1;33m(\u001b[0m\u001b[0mlen\u001b[0m\u001b[1;33m(\u001b[0m\u001b[0mtest_data\u001b[0m\u001b[1;33m)\u001b[0m\u001b[1;33m)\u001b[0m\u001b[1;33m\u001b[0m\u001b[0m\n\u001b[1;32m----> 5\u001b[1;33m \u001b[0msim_data\u001b[0m\u001b[1;33m.\u001b[0m\u001b[0mloc\u001b[0m\u001b[1;33m(\u001b[0m\u001b[0msim_data\u001b[0m\u001b[1;33m.\u001b[0m\u001b[0mindex\u001b[0m\u001b[1;33m[\u001b[0m\u001b[1;36m1\u001b[0m\u001b[1;33m]\u001b[0m\u001b[1;33m)\u001b[0m\u001b[1;33m\u001b[0m\u001b[0m\n\u001b[0m",
      "\u001b[1;32mE:\\Anaconda\\lib\\site-packages\\pandas\\core\\indexing.py\u001b[0m in \u001b[0;36m__call__\u001b[1;34m(self, axis)\u001b[0m\n\u001b[0;32m    101\u001b[0m \u001b[1;33m\u001b[0m\u001b[0m\n\u001b[0;32m    102\u001b[0m         \u001b[1;32mif\u001b[0m \u001b[0maxis\u001b[0m \u001b[1;32mis\u001b[0m \u001b[1;32mnot\u001b[0m \u001b[1;32mNone\u001b[0m\u001b[1;33m:\u001b[0m\u001b[1;33m\u001b[0m\u001b[0m\n\u001b[1;32m--> 103\u001b[1;33m             \u001b[0maxis\u001b[0m \u001b[1;33m=\u001b[0m \u001b[0mself\u001b[0m\u001b[1;33m.\u001b[0m\u001b[0mobj\u001b[0m\u001b[1;33m.\u001b[0m\u001b[0m_get_axis_number\u001b[0m\u001b[1;33m(\u001b[0m\u001b[0maxis\u001b[0m\u001b[1;33m)\u001b[0m\u001b[1;33m\u001b[0m\u001b[0m\n\u001b[0m\u001b[0;32m    104\u001b[0m         \u001b[0mnew_self\u001b[0m\u001b[1;33m.\u001b[0m\u001b[0maxis\u001b[0m \u001b[1;33m=\u001b[0m \u001b[0maxis\u001b[0m\u001b[1;33m\u001b[0m\u001b[0m\n\u001b[0;32m    105\u001b[0m         \u001b[1;32mreturn\u001b[0m \u001b[0mnew_self\u001b[0m\u001b[1;33m\u001b[0m\u001b[0m\n",
      "\u001b[1;32mE:\\Anaconda\\lib\\site-packages\\pandas\\core\\generic.py\u001b[0m in \u001b[0;36m_get_axis_number\u001b[1;34m(self, axis)\u001b[0m\n\u001b[0;32m    355\u001b[0m                 \u001b[1;32mpass\u001b[0m\u001b[1;33m\u001b[0m\u001b[0m\n\u001b[0;32m    356\u001b[0m         raise ValueError('No axis named {0} for object type {1}'\n\u001b[1;32m--> 357\u001b[1;33m                          .format(axis, type(self)))\n\u001b[0m\u001b[0;32m    358\u001b[0m \u001b[1;33m\u001b[0m\u001b[0m\n\u001b[0;32m    359\u001b[0m     \u001b[1;32mdef\u001b[0m \u001b[0m_get_axis_name\u001b[0m\u001b[1;33m(\u001b[0m\u001b[0mself\u001b[0m\u001b[1;33m,\u001b[0m \u001b[0maxis\u001b[0m\u001b[1;33m)\u001b[0m\u001b[1;33m:\u001b[0m\u001b[1;33m\u001b[0m\u001b[0m\n",
      "\u001b[1;31mValueError\u001b[0m: No axis named 2018-01-01 00:00:05 for object type <class 'pandas.core.frame.DataFrame'>"
     ]
    }
   ],
   "source": [
    "test_data.head()\n",
    "sim_data= pd.DataFrame(columns=['original'],data=test_data.values,index=test_data.index)\n",
    "\n",
    "sim_data['simdata']=np.ones(len(test_data))\n",
    "sim_data.loc(sim_data.index[1])"
   ]
  },
  {
   "cell_type": "code",
   "execution_count": 41,
   "metadata": {},
   "outputs": [
    {
     "data": {
      "text/plain": [
       "5"
      ]
     },
     "execution_count": 41,
     "metadata": {},
     "output_type": "execute_result"
    }
   ],
   "source": [
    "t1 =sim_data.index[1]\n",
    "# sim_data.loc[ti]['simdata']=2\n",
    "# sim_data.loc[ti]['simdata']\n",
    "t2 =sim_data.index[2]\n",
    "(t2-t1).seconds"
   ]
  },
  {
   "cell_type": "code",
   "execution_count": 103,
   "metadata": {
    "scrolled": true
   },
   "outputs": [
    {
     "ename": "TypeError",
     "evalue": "data type not understood",
     "output_type": "error",
     "traceback": [
      "\u001b[1;31m---------------------------------------------------------------------------\u001b[0m",
      "\u001b[1;31mTypeError\u001b[0m                                 Traceback (most recent call last)",
      "\u001b[1;32m<ipython-input-103-d3148d282304>\u001b[0m in \u001b[0;36m<module>\u001b[1;34m()\u001b[0m\n\u001b[1;32m----> 1\u001b[1;33m \u001b[0msim_data\u001b[0m\u001b[1;33m=\u001b[0m \u001b[0mpd\u001b[0m\u001b[1;33m.\u001b[0m\u001b[0mDataFrame\u001b[0m\u001b[1;33m(\u001b[0m\u001b[0mcolumns\u001b[0m\u001b[1;33m=\u001b[0m\u001b[1;33m[\u001b[0m\u001b[1;34m'data'\u001b[0m\u001b[1;33m,\u001b[0m\u001b[1;34m'data2'\u001b[0m\u001b[1;33m]\u001b[0m\u001b[1;33m,\u001b[0m\u001b[0mdata\u001b[0m\u001b[1;33m=\u001b[0m\u001b[0mnp\u001b[0m\u001b[1;33m.\u001b[0m\u001b[0marray\u001b[0m\u001b[1;33m(\u001b[0m\u001b[0mtest_data\u001b[0m\u001b[1;33m.\u001b[0m\u001b[0mvalues\u001b[0m\u001b[1;33m,\u001b[0m\u001b[1;33m[\u001b[0m\u001b[1;36m3\u001b[0m\u001b[1;33m]\u001b[0m\u001b[1;33m)\u001b[0m \u001b[1;33m)\u001b[0m\u001b[1;33m\u001b[0m\u001b[0m\n\u001b[0m\u001b[0;32m      2\u001b[0m \u001b[0mprint\u001b[0m\u001b[1;33m(\u001b[0m\u001b[0msim_data\u001b[0m\u001b[1;33m)\u001b[0m\u001b[1;33m\u001b[0m\u001b[0m\n",
      "\u001b[1;31mTypeError\u001b[0m: data type not understood"
     ]
    }
   ],
   "source": [
    "sim_data= pd.DataFrame(columns=['data','data2'],data=np.array(test_data.values,[3]) )\n",
    "print(sim_data)"
   ]
  },
  {
   "cell_type": "code",
   "execution_count": 106,
   "metadata": {
    "scrolled": true
   },
   "outputs": [
    {
     "ename": "TypeError",
     "evalue": "data type not understood",
     "output_type": "error",
     "traceback": [
      "\u001b[1;31m---------------------------------------------------------------------------\u001b[0m",
      "\u001b[1;31mTypeError\u001b[0m                                 Traceback (most recent call last)",
      "\u001b[1;32m<ipython-input-106-c719e20ab9ce>\u001b[0m in \u001b[0;36m<module>\u001b[1;34m()\u001b[0m\n\u001b[1;32m----> 1\u001b[1;33m \u001b[0mdata\u001b[0m\u001b[1;33m=\u001b[0m\u001b[0mnp\u001b[0m\u001b[1;33m.\u001b[0m\u001b[0marray\u001b[0m\u001b[1;33m(\u001b[0m\u001b[0mtest_data\u001b[0m\u001b[1;33m.\u001b[0m\u001b[0mvalues\u001b[0m\u001b[1;33m,\u001b[0m\u001b[1;33m[\u001b[0m\u001b[1;36m3\u001b[0m\u001b[1;33m]\u001b[0m\u001b[1;33m)\u001b[0m\u001b[1;33m\u001b[0m\u001b[0m\n\u001b[0m\u001b[0;32m      2\u001b[0m \u001b[0mdata\u001b[0m\u001b[1;33m.\u001b[0m\u001b[0mshape\u001b[0m\u001b[1;33m\u001b[0m\u001b[0m\n",
      "\u001b[1;31mTypeError\u001b[0m: data type not understood"
     ]
    }
   ],
   "source": [
    "data=np.array(test_data.values,[3])\n",
    "data.shape"
   ]
  },
  {
   "cell_type": "markdown",
   "metadata": {},
   "source": [
    "# 平稳性检验"
   ]
  },
  {
   "cell_type": "code",
   "execution_count": 46,
   "metadata": {},
   "outputs": [],
   "source": [
    "import statsmodels.tsa.stattools as ts\n",
    "result = ts.adfuller(test_data.values[500:1000])\n"
   ]
  },
  {
   "cell_type": "code",
   "execution_count": 55,
   "metadata": {},
   "outputs": [
    {
     "data": {
      "text/plain": [
       "-3.4435228622952065"
      ]
     },
     "execution_count": 55,
     "metadata": {},
     "output_type": "execute_result"
    }
   ],
   "source": [
    "result[4]['1%']"
   ]
  },
  {
   "cell_type": "code",
   "execution_count": null,
   "metadata": {},
   "outputs": [],
   "source": [
    "time_stamp = pd.Time_range"
   ]
  },
  {
   "cell_type": "code",
   "execution_count": null,
   "metadata": {},
   "outputs": [],
   "source": [
    "time_stamp = pd.Timerange"
   ]
  },
  {
   "cell_type": "code",
   "execution_count": null,
   "metadata": {},
   "outputs": [],
   "source": [
    "time_stamp = pd.Timestamp"
   ]
  },
  {
   "cell_type": "code",
   "execution_count": null,
   "metadata": {},
   "outputs": [],
   "source": [
    "time_stamp = pd.timedelta_range"
   ]
  },
  {
   "cell_type": "code",
   "execution_count": null,
   "metadata": {},
   "outputs": [],
   "source": []
  },
  {
   "cell_type": "code",
   "execution_count": null,
   "metadata": {},
   "outputs": [],
   "source": []
  },
  {
   "cell_type": "code",
   "execution_count": null,
   "metadata": {},
   "outputs": [],
   "source": []
  },
  {
   "cell_type": "code",
   "execution_count": null,
   "metadata": {},
   "outputs": [],
   "source": []
  },
  {
   "cell_type": "code",
   "execution_count": null,
   "metadata": {},
   "outputs": [],
   "source": []
  },
  {
   "cell_type": "code",
   "execution_count": null,
   "metadata": {},
   "outputs": [],
   "source": []
  },
  {
   "cell_type": "code",
   "execution_count": null,
   "metadata": {},
   "outputs": [],
   "source": []
  },
  {
   "cell_type": "code",
   "execution_count": null,
   "metadata": {},
   "outputs": [],
   "source": []
  },
  {
   "cell_type": "code",
   "execution_count": null,
   "metadata": {},
   "outputs": [],
   "source": []
  },
  {
   "cell_type": "code",
   "execution_count": null,
   "metadata": {},
   "outputs": [],
   "source": []
  },
  {
   "cell_type": "code",
   "execution_count": null,
   "metadata": {},
   "outputs": [],
   "source": []
  },
  {
   "cell_type": "code",
   "execution_count": null,
   "metadata": {},
   "outputs": [],
   "source": []
  },
  {
   "cell_type": "code",
   "execution_count": null,
   "metadata": {},
   "outputs": [],
   "source": []
  },
  {
   "cell_type": "code",
   "execution_count": null,
   "metadata": {},
   "outputs": [],
   "source": []
  },
  {
   "cell_type": "code",
   "execution_count": null,
   "metadata": {},
   "outputs": [],
   "source": []
  }
 ],
 "metadata": {
  "kernelspec": {
   "display_name": "Python 3",
   "language": "python",
   "name": "python3"
  },
  "language_info": {
   "codemirror_mode": {
    "name": "ipython",
    "version": 3
   },
   "file_extension": ".py",
   "mimetype": "text/x-python",
   "name": "python",
   "nbconvert_exporter": "python",
   "pygments_lexer": "ipython3",
   "version": "3.6.4"
  }
 },
 "nbformat": 4,
 "nbformat_minor": 2
}
